{
 "cells": [
  {
   "cell_type": "code",
   "execution_count": 109,
   "metadata": {},
   "outputs": [],
   "source": [
    "import matplotlib.pyplot as plt\n",
    "import numpy as np\n",
    "\n",
    "%matplotlib inline"
   ]
  },
  {
   "cell_type": "markdown",
   "metadata": {},
   "source": [
    "# I  $(x^2 + y^2 – 1)^3 – x^2y^3 = 0$  you Ann\n",
    "\n",
    "where:\n",
    "- $ y_1 = \\frac{(-x)^{2/3} + \\sqrt{x^{4/3} - 4x^2 + 4}}{2} $\n",
    "- $ y_1 = \\frac{(-x)^{2/3} - \\sqrt{x^{4/3} - 4x^2 + 4}}{2} $"
   ]
  },
  {
   "cell_type": "code",
   "execution_count": 120,
   "metadata": {},
   "outputs": [],
   "source": [
    "x = np.linspace(-1.139, 1.139, 1000)\n",
    "\n",
    "def fractional_pow(x, numerator, denominator):\n",
    "    return (x**numerator)**(1/denominator)\n",
    "\n",
    "def y1(x):\n",
    "    return (fractional_pow(-x, 2, 3) + np.sqrt(fractional_pow(x, 4, 3) - 4*x**2 + 4)) / 2\n",
    "\n",
    "def y2(x):\n",
    "    return (fractional_pow(-x, 2, 3) - np.sqrt(fractional_pow(x, 4, 3) - 4*x**2 + 4)) / 2"
   ]
  },
  {
   "cell_type": "code",
   "execution_count": 121,
   "metadata": {},
   "outputs": [
    {
     "data": {
      "text/plain": [
       "<matplotlib.collections.PolyCollection at 0x7f18d97a3ef0>"
      ]
     },
     "execution_count": 121,
     "metadata": {},
     "output_type": "execute_result"
    },
    {
     "data": {
      "image/png": "[encoded data removed]",
      "text/plain": [
       "<Figure size 432x288 with 1 Axes>"
      ]
     },
     "metadata": {},
     "output_type": "display_data"
    }
   ],
   "source": [
    "plt.fill_between(x, y1(x), y2(x), color='red')"
   ]
  }
 ],
 "metadata": {
  "kernelspec": {
   "display_name": "Python 3",
   "language": "python",
   "name": "python3"
  },
  "language_info": {
   "codemirror_mode": {
    "name": "ipython",
    "version": 3
   },
   "file_extension": ".py",
   "mimetype": "text/x-python",
   "name": "python",
   "nbconvert_exporter": "python",
   "pygments_lexer": "ipython3",
   "version": "3.6.7"
  }
 },
 "nbformat": 4,
 "nbformat_minor": 2
}
